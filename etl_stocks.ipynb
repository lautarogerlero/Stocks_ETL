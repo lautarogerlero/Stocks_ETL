{
 "cells": [
  {
   "cell_type": "code",
   "execution_count": 1,
   "metadata": {},
   "outputs": [],
   "source": [
    "import pandas as pd \n",
    "import requests\n",
    "import json\n",
    "from datetime import datetime\n",
    "import psycopg2\n",
    "from sqlalchemy import create_engine"
   ]
  },
  {
   "cell_type": "code",
   "execution_count": 2,
   "metadata": {},
   "outputs": [],
   "source": [
    "def log(message):\n",
    "    timestamp_format = \"%Y-%h-%d-%H:%M:%S\"\n",
    "    now = datetime.now()\n",
    "    timestamp = now.strftime(timestamp_format)\n",
    "    with open(\"logfile.txt\", \"a\") as f:\n",
    "        f.write(timestamp + \", \" + message + \"\\n\")"
   ]
  },
  {
   "cell_type": "code",
   "execution_count": 3,
   "metadata": {},
   "outputs": [],
   "source": [
    "# Get credentials\n",
    "with open(\"config.json\") as f:\n",
    "    config = json.load(f)"
   ]
  },
  {
   "cell_type": "code",
   "execution_count": 4,
   "metadata": {},
   "outputs": [],
   "source": [
    "def extract_from_api(api):\n",
    "    # Connect to the API\n",
    "    response = requests.get(api)\n",
    "\n",
    "    if response.status_code == 200:\n",
    "        try:\n",
    "            data = response.json()\n",
    "            return data\n",
    "        except json.JSONDecodeError as e:\n",
    "            print(f\"JSONDecodeError: {e}\")\n",
    "            return None\n",
    "    else:\n",
    "        print(f\"Request failed with status code {response.status_code}\")\n",
    "        return None"
   ]
  },
  {
   "cell_type": "code",
   "execution_count": 5,
   "metadata": {},
   "outputs": [],
   "source": [
    "def extract_and_transform():\n",
    "    key = config[\"API_KEY\"]\n",
    "    # Symbols to search in the API\n",
    "    symbols = [\"AMZN\", \"IBM\", \"GOOGL\", \"KO\", \"MSFT\", \"NFLX\", \"TSLA\"]\n",
    "    # symbols = [\"IBM\"]\n",
    "    # List where the dataframes will be appended\n",
    "    dataframes = []\n",
    "    # For each symbol in the list, connect to the API and extract the information\n",
    "    for symbol in symbols:\n",
    "        # demo_api = \"https://www.alphavantage.co/query?function=TIME_SERIES_DAILY&symbol=IBM&apikey=demo\"\n",
    "\n",
    "        api = f\"https://www.alphavantage.co/query?function=TIME_SERIES_DAILY&symbol={symbol}&apikey={key}\"\n",
    "        log(f\"Calling api for: {symbol}\")\n",
    "        data = extract_from_api(api)\n",
    "\n",
    "        # Check if the API retrieved information\n",
    "        if data != None:\n",
    "            # Get the last refreshed date\n",
    "            last_refresh_date = data[\"Meta Data\"][\"3. Last Refreshed\"]\n",
    "            # Get the element that corresponds to the last refreshed date\n",
    "            time_series_data = data[\"Time Series (Daily)\"][last_refresh_date]\n",
    "\n",
    "            # Create a list with a dictionary with the keys and values for each symbol\n",
    "            data_list = [\n",
    "                {\n",
    "                    \"symbol\": symbol,\n",
    "                    \"date\": last_refresh_date,\n",
    "                    \"open_value\": round(float(time_series_data[\"1. open\"]),2),\n",
    "                    \"high_value\": round(float(time_series_data[\"2. high\"]),2),\n",
    "                    \"low_value\": round(float(time_series_data[\"3. low\"]),2),\n",
    "                    \"close_value\": round(float(time_series_data[\"4. close\"]),2),\n",
    "                    \"volume\": time_series_data[\"5. volume\"]\n",
    "                }\n",
    "            ]\n",
    "\n",
    "            # Create the dataframe from the list\n",
    "            df = pd.DataFrame(data_list)\n",
    "            # Append to the list of dataframes\n",
    "            dataframes.append(df)\n",
    "        else:\n",
    "            log(f\"No information found for {symbol}\")\n",
    "\n",
    "    # Check if the list of dataframes is not empty\n",
    "    if len(dataframes) > 0:\n",
    "        stocks_df = pd.concat(dataframes, ignore_index=True)\n",
    "        log(\"Successfully created the DataFrame\")\n",
    "        return stocks_df\n",
    "    else:\n",
    "        log(\"No information found for any of the symbols\")\n",
    "        return None"
   ]
  },
  {
   "cell_type": "code",
   "execution_count": 6,
   "metadata": {},
   "outputs": [],
   "source": [
    "def load_data(stocks_df):\n",
    "    host = config[\"DB_HOST\"]\n",
    "    port = config[\"DB_PORT\"]\n",
    "    database = config[\"DB_DATABASE\"]\n",
    "    user = config[\"DB_USERNAME\"]\n",
    "    password = config[\"DB_PASSWORD\"]\n",
    "    # Create the connection string with the credentials\n",
    "    conn_string = f\"dbname={database} user={user} password={password} host={host} port={port}\"\n",
    "    # Table name\n",
    "    table = \"stocks\"\n",
    "\n",
    "    # Try to establish the connection\n",
    "    try:\n",
    "        log(\"Connecting to the database...\")\n",
    "        connection = psycopg2.connect(conn_string)\n",
    "        log(\"Successfully connected to the database\")\n",
    "        \n",
    "        # Establish a connection through sqlalchemy\n",
    "        engine = create_engine(f'postgresql+psycopg2://{user}:{password}@{host}:{port}/{database}')\n",
    "\n",
    "        # Load the dataframe into the Redshift table\n",
    "        log(\"Loading DataFrame into the database...\")\n",
    "        stocks_df.to_sql(table, engine, if_exists='append', index=False)\n",
    "\n",
    "    except psycopg2.Error as e:\n",
    "        log(\"Error while connection to the database:\", e)\n",
    "\n",
    "    finally:\n",
    "        # Close the connection\n",
    "        if connection:\n",
    "            connection.close()\n",
    "            log(\"Connection closed\")"
   ]
  },
  {
   "cell_type": "code",
   "execution_count": 7,
   "metadata": {},
   "outputs": [],
   "source": [
    "# Generate the dataframe with the information extracted form the API\n",
    "log(\"Starting process...\")\n",
    "stocks_df = extract_and_transform()\n",
    "# Load the dataframe into the Redshift table\n",
    "load_data(stocks_df)\n",
    "log(\"Process finished\")"
   ]
  }
 ],
 "metadata": {
  "kernelspec": {
   "display_name": "Python 3",
   "language": "python",
   "name": "python3"
  },
  "language_info": {
   "codemirror_mode": {
    "name": "ipython",
    "version": 3
   },
   "file_extension": ".py",
   "mimetype": "text/x-python",
   "name": "python",
   "nbconvert_exporter": "python",
   "pygments_lexer": "ipython3",
   "version": "3.11.4"
  }
 },
 "nbformat": 4,
 "nbformat_minor": 2
}
